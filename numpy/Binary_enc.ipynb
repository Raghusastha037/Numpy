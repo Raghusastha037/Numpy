{
 "cells": [
  {
   "cell_type": "code",
   "execution_count": 2,
   "id": "175dfc23",
   "metadata": {},
   "outputs": [
    {
     "name": "stdout",
     "output_type": "stream",
     "text": [
      "Collecting category_encoders\n",
      "  Using cached category_encoders-2.8.1-py3-none-any.whl.metadata (7.9 kB)\n",
      "Requirement already satisfied: numpy>=1.14.0 in c:\\users\\raghu\\appdata\\local\\programs\\python\\python311\\lib\\site-packages (from category_encoders) (1.26.4)\n",
      "Requirement already satisfied: pandas>=1.0.5 in c:\\users\\raghu\\appdata\\local\\programs\\python\\python311\\lib\\site-packages (from category_encoders) (2.3.2)\n",
      "Collecting patsy>=0.5.1 (from category_encoders)\n",
      "  Using cached patsy-1.0.1-py2.py3-none-any.whl.metadata (3.3 kB)\n",
      "Requirement already satisfied: scikit-learn>=1.6.0 in c:\\users\\raghu\\appdata\\local\\programs\\python\\python311\\lib\\site-packages (from category_encoders) (1.7.2)\n",
      "Requirement already satisfied: scipy>=1.0.0 in c:\\users\\raghu\\appdata\\local\\programs\\python\\python311\\lib\\site-packages (from category_encoders) (1.16.2)\n",
      "Collecting statsmodels>=0.9.0 (from category_encoders)\n",
      "  Downloading statsmodels-0.14.5-cp311-cp311-win_amd64.whl.metadata (9.8 kB)\n",
      "Requirement already satisfied: python-dateutil>=2.8.2 in c:\\users\\raghu\\appdata\\roaming\\python\\python311\\site-packages (from pandas>=1.0.5->category_encoders) (2.8.2)\n",
      "Requirement already satisfied: pytz>=2020.1 in c:\\users\\raghu\\appdata\\local\\programs\\python\\python311\\lib\\site-packages (from pandas>=1.0.5->category_encoders) (2025.2)\n",
      "Requirement already satisfied: tzdata>=2022.7 in c:\\users\\raghu\\appdata\\local\\programs\\python\\python311\\lib\\site-packages (from pandas>=1.0.5->category_encoders) (2025.2)\n",
      "Requirement already satisfied: joblib>=1.2.0 in c:\\users\\raghu\\appdata\\local\\programs\\python\\python311\\lib\\site-packages (from scikit-learn>=1.6.0->category_encoders) (1.5.2)\n",
      "Requirement already satisfied: threadpoolctl>=3.1.0 in c:\\users\\raghu\\appdata\\local\\programs\\python\\python311\\lib\\site-packages (from scikit-learn>=1.6.0->category_encoders) (3.6.0)\n",
      "Requirement already satisfied: packaging>=21.3 in c:\\users\\raghu\\appdata\\roaming\\python\\python311\\site-packages (from statsmodels>=0.9.0->category_encoders) (23.2)\n",
      "Requirement already satisfied: six>=1.5 in c:\\users\\raghu\\appdata\\roaming\\python\\python311\\site-packages (from python-dateutil>=2.8.2->pandas>=1.0.5->category_encoders) (1.16.0)\n",
      "Using cached category_encoders-2.8.1-py3-none-any.whl (85 kB)\n",
      "Using cached patsy-1.0.1-py2.py3-none-any.whl (232 kB)\n",
      "Downloading statsmodels-0.14.5-cp311-cp311-win_amd64.whl (9.6 MB)\n",
      "   ---------------------------------------- 0.0/9.6 MB ? eta -:--:--\n",
      "   ---------------------------------------- 0.1/9.6 MB 3.2 MB/s eta 0:00:03\n",
      "   -- ------------------------------------- 0.6/9.6 MB 8.1 MB/s eta 0:00:02\n",
      "   ----- ---------------------------------- 1.4/9.6 MB 13.1 MB/s eta 0:00:01\n",
      "   -------- ------------------------------- 2.0/9.6 MB 11.5 MB/s eta 0:00:01\n",
      "   ---------- ----------------------------- 2.5/9.6 MB 12.2 MB/s eta 0:00:01\n",
      "   ------------- -------------------------- 3.4/9.6 MB 12.6 MB/s eta 0:00:01\n",
      "   ---------------- ----------------------- 4.0/9.6 MB 13.5 MB/s eta 0:00:01\n",
      "   ------------------- -------------------- 4.6/9.6 MB 13.5 MB/s eta 0:00:01\n",
      "   -------------------- ------------------- 5.0/9.6 MB 12.8 MB/s eta 0:00:01\n",
      "   ----------------------- ---------------- 5.7/9.6 MB 13.0 MB/s eta 0:00:01\n",
      "   -------------------------- ------------- 6.3/9.6 MB 13.0 MB/s eta 0:00:01\n",
      "   ---------------------------- ----------- 6.9/9.6 MB 13.4 MB/s eta 0:00:01\n",
      "   ------------------------------- -------- 7.6/9.6 MB 13.6 MB/s eta 0:00:01\n",
      "   ---------------------------------- ----- 8.3/9.6 MB 13.3 MB/s eta 0:00:01\n",
      "   -------------------------------------- - 9.3/9.6 MB 14.1 MB/s eta 0:00:01\n",
      "   ---------------------------------------  9.6/9.6 MB 14.3 MB/s eta 0:00:01\n",
      "   ---------------------------------------  9.6/9.6 MB 14.3 MB/s eta 0:00:01\n",
      "   ---------------------------------------- 9.6/9.6 MB 12.3 MB/s eta 0:00:00\n",
      "Installing collected packages: patsy, statsmodels, category_encoders\n",
      "Successfully installed category_encoders-2.8.1 patsy-1.0.1 statsmodels-0.14.5\n",
      "Note: you may need to restart the kernel to use updated packages.\n"
     ]
    },
    {
     "name": "stderr",
     "output_type": "stream",
     "text": [
      "\n",
      "[notice] A new release of pip is available: 24.0 -> 25.2\n",
      "[notice] To update, run: python.exe -m pip install --upgrade pip\n"
     ]
    }
   ],
   "source": [
    "pip install category_encoders\n"
   ]
  },
  {
   "cell_type": "code",
   "execution_count": 3,
   "id": "307ae4d2",
   "metadata": {},
   "outputs": [],
   "source": [
    "import pandas as pd\n",
    "from category_encoders import BinaryEncoder"
   ]
  },
  {
   "cell_type": "code",
   "execution_count": 4,
   "id": "e05e0884",
   "metadata": {},
   "outputs": [],
   "source": [
    "data = {'device':['mobile','watch','pc','tv'],'portablity':['yes','yes','no','no']}"
   ]
  },
  {
   "cell_type": "code",
   "execution_count": 6,
   "id": "6829ef69",
   "metadata": {},
   "outputs": [
    {
     "data": {
      "text/html": [
       "<div>\n",
       "<style scoped>\n",
       "    .dataframe tbody tr th:only-of-type {\n",
       "        vertical-align: middle;\n",
       "    }\n",
       "\n",
       "    .dataframe tbody tr th {\n",
       "        vertical-align: top;\n",
       "    }\n",
       "\n",
       "    .dataframe thead th {\n",
       "        text-align: right;\n",
       "    }\n",
       "</style>\n",
       "<table border=\"1\" class=\"dataframe\">\n",
       "  <thead>\n",
       "    <tr style=\"text-align: right;\">\n",
       "      <th></th>\n",
       "      <th>device</th>\n",
       "      <th>portablity</th>\n",
       "    </tr>\n",
       "  </thead>\n",
       "  <tbody>\n",
       "    <tr>\n",
       "      <th>0</th>\n",
       "      <td>mobile</td>\n",
       "      <td>yes</td>\n",
       "    </tr>\n",
       "    <tr>\n",
       "      <th>1</th>\n",
       "      <td>watch</td>\n",
       "      <td>yes</td>\n",
       "    </tr>\n",
       "    <tr>\n",
       "      <th>2</th>\n",
       "      <td>pc</td>\n",
       "      <td>no</td>\n",
       "    </tr>\n",
       "    <tr>\n",
       "      <th>3</th>\n",
       "      <td>tv</td>\n",
       "      <td>no</td>\n",
       "    </tr>\n",
       "  </tbody>\n",
       "</table>\n",
       "</div>"
      ],
      "text/plain": [
       "   device portablity\n",
       "0  mobile        yes\n",
       "1   watch        yes\n",
       "2      pc         no\n",
       "3      tv         no"
      ]
     },
     "execution_count": 6,
     "metadata": {},
     "output_type": "execute_result"
    }
   ],
   "source": [
    "df = pd.DataFrame(data)\n",
    "df"
   ]
  },
  {
   "cell_type": "code",
   "execution_count": 7,
   "id": "572a4e89",
   "metadata": {},
   "outputs": [],
   "source": [
    "x = BinaryEncoder(cols='portablity')"
   ]
  },
  {
   "cell_type": "code",
   "execution_count": 8,
   "id": "7558fb6e",
   "metadata": {},
   "outputs": [],
   "source": [
    "enc = x.fit_transform(df)"
   ]
  },
  {
   "cell_type": "code",
   "execution_count": 9,
   "id": "16b7658d",
   "metadata": {},
   "outputs": [
    {
     "data": {
      "text/html": [
       "<div>\n",
       "<style scoped>\n",
       "    .dataframe tbody tr th:only-of-type {\n",
       "        vertical-align: middle;\n",
       "    }\n",
       "\n",
       "    .dataframe tbody tr th {\n",
       "        vertical-align: top;\n",
       "    }\n",
       "\n",
       "    .dataframe thead th {\n",
       "        text-align: right;\n",
       "    }\n",
       "</style>\n",
       "<table border=\"1\" class=\"dataframe\">\n",
       "  <thead>\n",
       "    <tr style=\"text-align: right;\">\n",
       "      <th></th>\n",
       "      <th>device</th>\n",
       "      <th>portablity_0</th>\n",
       "      <th>portablity_1</th>\n",
       "    </tr>\n",
       "  </thead>\n",
       "  <tbody>\n",
       "    <tr>\n",
       "      <th>0</th>\n",
       "      <td>mobile</td>\n",
       "      <td>0</td>\n",
       "      <td>1</td>\n",
       "    </tr>\n",
       "    <tr>\n",
       "      <th>1</th>\n",
       "      <td>watch</td>\n",
       "      <td>0</td>\n",
       "      <td>1</td>\n",
       "    </tr>\n",
       "    <tr>\n",
       "      <th>2</th>\n",
       "      <td>pc</td>\n",
       "      <td>1</td>\n",
       "      <td>0</td>\n",
       "    </tr>\n",
       "    <tr>\n",
       "      <th>3</th>\n",
       "      <td>tv</td>\n",
       "      <td>1</td>\n",
       "      <td>0</td>\n",
       "    </tr>\n",
       "  </tbody>\n",
       "</table>\n",
       "</div>"
      ],
      "text/plain": [
       "   device  portablity_0  portablity_1\n",
       "0  mobile             0             1\n",
       "1   watch             0             1\n",
       "2      pc             1             0\n",
       "3      tv             1             0"
      ]
     },
     "execution_count": 9,
     "metadata": {},
     "output_type": "execute_result"
    }
   ],
   "source": [
    "enc"
   ]
  },
  {
   "cell_type": "code",
   "execution_count": null,
   "id": "9fedf28b",
   "metadata": {},
   "outputs": [],
   "source": []
  }
 ],
 "metadata": {
  "kernelspec": {
   "display_name": "Python 3",
   "language": "python",
   "name": "python3"
  },
  "language_info": {
   "codemirror_mode": {
    "name": "ipython",
    "version": 3
   },
   "file_extension": ".py",
   "mimetype": "text/x-python",
   "name": "python",
   "nbconvert_exporter": "python",
   "pygments_lexer": "ipython3",
   "version": "3.11.8"
  }
 },
 "nbformat": 4,
 "nbformat_minor": 5
}
